{
 "cells": [
  {
   "cell_type": "code",
   "execution_count": 1,
   "metadata": {},
   "outputs": [
    {
     "name": "stdout",
     "output_type": "stream",
     "text": [
      "['/home/aymane/School/pothole-localization/src/data', '/home/aymane/School/pothole-localization/src/helper', '/home/aymane/School/pothole-localization/notebooks', '/usr/lib/python310.zip', '/usr/lib/python3.10', '/usr/lib/python3.10/lib-dynload', '', '/home/aymane/School/pothole-localization/venv/lib/python3.10/site-packages', '/home/aymane/.local/lib/python3.10/site-packages', '/usr/lib/python3.10/site-packages']\n"
     ]
    }
   ],
   "source": [
    "import sys\n",
    "sys.path.insert(0, '/home/aymane/School/pothole-localization/src/data')\n",
    "sys.path.insert(1, '/home/aymane/School/pothole-localization/src/helper')\n",
    "\n",
    "print(sys.path)"
   ]
  },
  {
   "cell_type": "code",
   "execution_count": 2,
   "metadata": {},
   "outputs": [],
   "source": [
    "#TODO add all modules to path using a function\n",
    "import torch\n",
    "import torch.utils.data \n",
    "import numpy as np\n",
    "import matplotlib.pyplot as plt\n",
    "from display_image import display_image\n",
    "\n",
    "from torch.utils.data import DataLoader\n",
    "from segmentation_dataset import SegmentationDataset\n",
    "\n",
    "raw_data_path   = '/home/aymane/School/pothole-localization/data/segmentation/raw'\n",
    "data_path       = '/home/aymane/School/pothole-localization/data/segmentation/augment_11/data.pt'\n",
    "label_path      = '/home/aymane/School/pothole-localization/data/segmentation/augment_11/label.pt'\n",
    "\n",
    "# dataset = SegmentationDataset(raw_data_path=raw_data_path)\n",
    "dataset = SegmentationDataset(data_path=data_path, label_path=label_path)\n",
    "\n",
    "split = [int(len(dataset) * i) for i in [0.8, 0.1, 0.1]]\n",
    "\n",
    "train, test, valid = torch.utils.data.random_split(dataset, split)\n",
    "\n",
    "train_data  = DataLoader(dataset=train, batch_size=8, shuffle=True, num_workers=8)\n",
    "test_data   = DataLoader(dataset=test, batch_size=8, shuffle=False, num_workers=8)\n",
    "valid_data  = DataLoader(dataset=valid, batch_size=8, shuffle=False, num_workers=8)\n",
    "\n",
    "del train, test, valid"
   ]
  },
  {
   "cell_type": "code",
   "execution_count": 3,
   "metadata": {},
   "outputs": [],
   "source": [
    "# # import required libraries\n",
    "# import torch\n",
    "# from torchvision import transforms\n",
    "# from PIL import Image\n",
    "# import matplotlib.pyplot as plt\n",
    "# from display_image import display_image as di\n",
    "\n",
    "\n",
    "# # define a torch tensor\n",
    "# i = 174\n",
    "\n",
    "# tensor1 = train[i][0]\n",
    "# tensor2 = train[i][1]\n",
    "\n",
    "# di(tensor1)\n",
    "# di(tensor2)"
   ]
  },
  {
   "cell_type": "code",
   "execution_count": 4,
   "metadata": {},
   "outputs": [
    {
     "name": "stderr",
     "output_type": "stream",
     "text": [
      "GPU available: True (cuda), used: True\n",
      "TPU available: False, using: 0 TPU cores\n",
      "IPU available: False, using: 0 IPUs\n",
      "HPU available: False, using: 0 HPUs\n",
      "LOCAL_RANK: 0 - CUDA_VISIBLE_DEVICES: [0]\n",
      "\n",
      "  | Name    | Type     | Params\n",
      "-------------------------------------\n",
      "0 | model   | FPN      | 23.2 M\n",
      "1 | loss_fn | DiceLoss | 0     \n",
      "-------------------------------------\n",
      "23.2 M    Trainable params\n",
      "0         Non-trainable params\n",
      "23.2 M    Total params\n",
      "92.622    Total estimated model params size (MB)\n"
     ]
    },
    {
     "data": {
      "application/vnd.jupyter.widget-view+json": {
       "model_id": "acd069f1f8e946aab8709df5768e6d3d",
       "version_major": 2,
       "version_minor": 0
      },
      "text/plain": [
       "Sanity Checking: 0it [00:00, ?it/s]"
      ]
     },
     "metadata": {},
     "output_type": "display_data"
    },
    {
     "data": {
      "application/vnd.jupyter.widget-view+json": {
       "model_id": "dd65097845a34370aba3efdae830f27c",
       "version_major": 2,
       "version_minor": 0
      },
      "text/plain": [
       "Training: 0it [00:00, ?it/s]"
      ]
     },
     "metadata": {},
     "output_type": "display_data"
    },
    {
     "data": {
      "application/vnd.jupyter.widget-view+json": {
       "model_id": "e6abe45cd9d040cda37f4638e3629ac2",
       "version_major": 2,
       "version_minor": 0
      },
      "text/plain": [
       "Validation: 0it [00:00, ?it/s]"
      ]
     },
     "metadata": {},
     "output_type": "display_data"
    },
    {
     "data": {
      "application/vnd.jupyter.widget-view+json": {
       "model_id": "5ee71dc4a5cf421b88b0d7e976bf8f24",
       "version_major": 2,
       "version_minor": 0
      },
      "text/plain": [
       "Validation: 0it [00:00, ?it/s]"
      ]
     },
     "metadata": {},
     "output_type": "display_data"
    },
    {
     "data": {
      "application/vnd.jupyter.widget-view+json": {
       "model_id": "0a25b2f8cf324ac09fb81aeeafa75211",
       "version_major": 2,
       "version_minor": 0
      },
      "text/plain": [
       "Validation: 0it [00:00, ?it/s]"
      ]
     },
     "metadata": {},
     "output_type": "display_data"
    },
    {
     "data": {
      "application/vnd.jupyter.widget-view+json": {
       "model_id": "8fc29ed2932041b4b71dcd9d460f5f56",
       "version_major": 2,
       "version_minor": 0
      },
      "text/plain": [
       "Validation: 0it [00:00, ?it/s]"
      ]
     },
     "metadata": {},
     "output_type": "display_data"
    },
    {
     "data": {
      "application/vnd.jupyter.widget-view+json": {
       "model_id": "1c0bd0b6d10b40788515b00b9ecd7f10",
       "version_major": 2,
       "version_minor": 0
      },
      "text/plain": [
       "Validation: 0it [00:00, ?it/s]"
      ]
     },
     "metadata": {},
     "output_type": "display_data"
    },
    {
     "name": "stderr",
     "output_type": "stream",
     "text": [
      "`Trainer.fit` stopped: `max_epochs=5` reached.\n"
     ]
    }
   ],
   "source": [
    "import segmentation_models_pytorch as smp\n",
    "from segmentation_model import SegmentationModel\n",
    "import pytorch_lightning as pl\n",
    "\n",
    "model = SegmentationModel(\"FPN\", \"resnet34\", in_channels=3, out_classes=1)\n",
    "\n",
    "trainer = pl.Trainer(\n",
    "    accelerator='gpu',\n",
    "    devices=1, \n",
    "    max_epochs=5,\n",
    ")\n",
    "\n",
    "trainer.fit(\n",
    "    model, \n",
    "    train_dataloaders=train_data, \n",
    "    val_dataloaders=valid_data,\n",
    ")\n"
   ]
  },
  {
   "cell_type": "code",
   "execution_count": 7,
   "metadata": {},
   "outputs": [
    {
     "name": "stderr",
     "output_type": "stream",
     "text": [
      "LOCAL_RANK: 0 - CUDA_VISIBLE_DEVICES: [0]\n"
     ]
    },
    {
     "data": {
      "application/vnd.jupyter.widget-view+json": {
       "model_id": "94c40183da534c139996fd92fc56b58b",
       "version_major": 2,
       "version_minor": 0
      },
      "text/plain": [
       "Testing: 0it [00:00, ?it/s]"
      ]
     },
     "metadata": {},
     "output_type": "display_data"
    },
    {
     "name": "stdout",
     "output_type": "stream",
     "text": [
      "[{'test_per_image_iou': 0.8449821472167969, 'test_dataset_iou': 0.8616792559623718}]\n"
     ]
    }
   ],
   "source": [
    "test_metrics = trainer.test(model, dataloaders=test_data, verbose=False)\n",
    "print(test_metrics)"
   ]
  },
  {
   "cell_type": "code",
   "execution_count": 17,
   "metadata": {},
   "outputs": [],
   "source": [
    "from display_image import display_image\n",
    "from torchvision import transforms\n"
   ]
  },
  {
   "cell_type": "code",
   "execution_count": 18,
   "metadata": {},
   "outputs": [
    {
     "ename": "NameError",
     "evalue": "name 'tensor' is not defined",
     "output_type": "error",
     "traceback": [
      "\u001b[0;31m---------------------------------------------------------------------------\u001b[0m",
      "\u001b[0;31mNameError\u001b[0m                                 Traceback (most recent call last)",
      "\u001b[1;32m/home/aymane/School/pothole-localization/notebooks/test.ipynb Cell 7\u001b[0m in \u001b[0;36m<cell line: 7>\u001b[0;34m()\u001b[0m\n\u001b[1;32m      <a href='vscode-notebook-cell:/home/aymane/School/pothole-localization/notebooks/test.ipynb#W6sZmlsZQ%3D%3D?line=7'>8</a>\u001b[0m plt\u001b[39m.\u001b[39mfigure(figsize\u001b[39m=\u001b[39m(\u001b[39m10\u001b[39m, \u001b[39m5\u001b[39m))\n\u001b[1;32m     <a href='vscode-notebook-cell:/home/aymane/School/pothole-localization/notebooks/test.ipynb#W6sZmlsZQ%3D%3D?line=9'>10</a>\u001b[0m plt\u001b[39m.\u001b[39msubplot(\u001b[39m1\u001b[39m, \u001b[39m3\u001b[39m, \u001b[39m1\u001b[39m)\n\u001b[0;32m---> <a href='vscode-notebook-cell:/home/aymane/School/pothole-localization/notebooks/test.ipynb#W6sZmlsZQ%3D%3D?line=10'>11</a>\u001b[0m plt\u001b[39m.\u001b[39mimshow(transforms\u001b[39m.\u001b[39mToPILImage()(tensor\u001b[39m/\u001b[39m\u001b[39m255\u001b[39m)) \n\u001b[1;32m     <a href='vscode-notebook-cell:/home/aymane/School/pothole-localization/notebooks/test.ipynb#W6sZmlsZQ%3D%3D?line=11'>12</a>\u001b[0m plt\u001b[39m.\u001b[39mtitle(\u001b[39m\"\u001b[39m\u001b[39mImage\u001b[39m\u001b[39m\"\u001b[39m)\n\u001b[1;32m     <a href='vscode-notebook-cell:/home/aymane/School/pothole-localization/notebooks/test.ipynb#W6sZmlsZQ%3D%3D?line=12'>13</a>\u001b[0m plt\u001b[39m.\u001b[39maxis(\u001b[39m\"\u001b[39m\u001b[39moff\u001b[39m\u001b[39m\"\u001b[39m)\n",
      "\u001b[0;31mNameError\u001b[0m: name 'tensor' is not defined"
     ]
    },
    {
     "data": {
      "image/png": "[encoded data removed]",
      "text/plain": [
       "<Figure size 1000x500 with 1 Axes>"
      ]
     },
     "metadata": {},
     "output_type": "display_data"
    }
   ],
   "source": [
    "batch = next(iter(test_data))\n",
    "with torch.no_grad():\n",
    "    model.eval()\n",
    "    logits = model(batch[0])\n",
    "pr_masks = logits.sigmoid()\n",
    "\n",
    "for image, gt_mask, pr_mask in zip(batch[0], batch[1], pr_masks):\n",
    "    plt.figure(figsize=(10, 5))\n",
    "\n",
    "    plt.subplot(1, 3, 1)\n",
    "    plt.imshow(transforms.ToPILImage()(image/255)) \n",
    "    plt.title(\"Image\")\n",
    "    plt.axis(\"off\")\n",
    "\n",
    "    plt.subplot(1, 3, 2)\n",
    "    plt.imshow(gt_mask.numpy().squeeze()) # just squeeze classes dim, because we have only one class\n",
    "    plt.title(\"Ground truth\")\n",
    "    plt.axis(\"off\")\n",
    "\n",
    "    plt.subplot(1, 3, 3)\n",
    "    plt.imshow(pr_mask.numpy().squeeze()) # just squeeze classes dim, because we have only one class\n",
    "    plt.title(\"Prediction\")\n",
    "    plt.axis(\"off\")\n",
    "\n",
    "    plt.show()"
   ]
  },
  {
   "cell_type": "code",
   "execution_count": null,
   "metadata": {},
   "outputs": [],
   "source": []
  }
 ],
 "metadata": {
  "kernelspec": {
   "display_name": "venv",
   "language": "python",
   "name": "python3"
  },
  "language_info": {
   "codemirror_mode": {
    "name": "ipython",
    "version": 3
   },
   "file_extension": ".py",
   "mimetype": "text/x-python",
   "name": "python",
   "nbconvert_exporter": "python",
   "pygments_lexer": "ipython3",
   "version": "3.10.8"
  },
  "orig_nbformat": 4,
  "vscode": {
   "interpreter": {
    "hash": "b65f72b0ec21ee4a60bf30747963c97083f7bfd22c5bdb303dffc94bbeb08fd8"
   }
  }
 },
 "nbformat": 4,
 "nbformat_minor": 2
}
