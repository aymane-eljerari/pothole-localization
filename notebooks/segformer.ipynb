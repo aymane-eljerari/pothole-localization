{
 "cells": [
  {
   "cell_type": "code",
   "execution_count": 3,
   "metadata": {},
   "outputs": [],
   "source": [
    "from transformers import SegformerModel, SegformerConfig\n",
    "\n",
    "# Initializing a SegFormer nvidia/segformer-b0-finetuned-ade-512-512 style configuration\n",
    "configuration = SegformerConfig(num_labels=2)\n",
    "\n",
    "# Initializing a model from the nvidia/segformer-b0-finetuned-ade-512-512 style configuration\n",
    "model = SegformerModel(configuration)\n",
    "\n",
    "# Accessing the model configuration\n",
    "configuration = model.config"
   ]
  },
  {
   "cell_type": "code",
   "execution_count": 4,
   "metadata": {},
   "outputs": [
    {
     "name": "stderr",
     "output_type": "stream",
     "text": [
      "Some weights of SegformerForSemanticSegmentation were not initialized from the model checkpoint at nvidia/segformer-b0-finetuned-ade-512-512 and are newly initialized because the shapes did not match:\n",
      "- decode_head.classifier.weight: found shape torch.Size([150, 256, 1, 1]) in the checkpoint and torch.Size([2, 256, 1, 1]) in the model instantiated\n",
      "- decode_head.classifier.bias: found shape torch.Size([150]) in the checkpoint and torch.Size([2]) in the model instantiated\n",
      "You should probably TRAIN this model on a down-stream task to be able to use it for predictions and inference.\n"
     ]
    },
    {
     "name": "stdout",
     "output_type": "stream",
     "text": [
      "torch.Size([1, 2, 128, 128])\n"
     ]
    }
   ],
   "source": [
    "from transformers import SegformerFeatureExtractor, SegformerForSemanticSegmentation\n",
    "from PIL import Image\n",
    "import requests\n",
    "import torch\n",
    "\n",
    "feature_extractor = SegformerFeatureExtractor.from_pretrained(\"nvidia/segformer-b0-finetuned-ade-512-512\", ignore_mismatched_sizes=True)\n",
    "model = SegformerForSemanticSegmentation.from_pretrained(\"nvidia/segformer-b0-finetuned-ade-512-512\", num_labels=2, ignore_mismatched_sizes=True)\n",
    "\n",
    "image = Image.open(\"/Users/aymane/School/Senior Design/pothole-localization/data/segmentation/raw/rgb/1.png\")\n",
    "label = Image.open(\"/Users/aymane/School/Senior Design/pothole-localization/data/segmentation/raw/label/601.png\")\n",
    "\n",
    "inputs = feature_extractor(images=image, segmentation_maps=label, return_tensors=\"pt\")\n",
    "outputs = model(**inputs)\n",
    "logits = outputs.logits  # shape (batch_size, num_labels, height/4, width/4)\n",
    "print(logits.shape)"
   ]
  },
  {
   "cell_type": "code",
   "execution_count": 5,
   "metadata": {},
   "outputs": [
    {
     "name": "stdout",
     "output_type": "stream",
     "text": [
      "['/Users/aymane/School/Senior Design/pothole-localization/src/data', '/Users/aymane/School/Senior Design/pothole-localization/notebooks', '/Library/Frameworks/Python.framework/Versions/3.10/lib/python310.zip', '/Library/Frameworks/Python.framework/Versions/3.10/lib/python3.10', '/Library/Frameworks/Python.framework/Versions/3.10/lib/python3.10/lib-dynload', '', '/Users/aymane/School/Senior Design/pothole-localization/venv/lib/python3.10/site-packages', '/Users/aymane/Library/Python/3.10/lib/python/site-packages', '/Library/Frameworks/Python.framework/Versions/3.10/lib/python3.10/site-packages']\n"
     ]
    }
   ],
   "source": [
    "# import \n",
    "import sys\n",
    "sys.path.insert(0, '/Users/aymane/School/Senior Design/pothole-localization/src/data')       \n",
    "\n",
    "print(sys.path)"
   ]
  },
  {
   "cell_type": "code",
   "execution_count": 6,
   "metadata": {},
   "outputs": [],
   "source": [
    "import dataset as dt\n",
    "\n",
    "feature_extractor = SegformerFeatureExtractor.from_pretrained(\"nvidia/segformer-b0-finetuned-ade-512-512\")\n",
    "dataset = dt.SegDataset(path='data/segmentation/raw', feature_extractor=feature_extractor)"
   ]
  },
  {
   "cell_type": "code",
   "execution_count": 42,
   "metadata": {},
   "outputs": [],
   "source": [
    "import os\n",
    "import numpy as np\n",
    "from torchvision import transforms\n",
    "\n",
    "\n",
    "convert_tensor  = transforms.ToTensor()\n",
    "\n",
    "segment_image   = Image.open('/Users/aymane/School/Senior Design/pothole-localization/data/segmentation/raw/label/601.png')\n",
    "segment_image.show()"
   ]
  },
  {
   "cell_type": "code",
   "execution_count": 6,
   "metadata": {},
   "outputs": [
    {
     "name": "stdout",
     "output_type": "stream",
     "text": [
      "torch.Size([1, 400, 400])\n"
     ]
    },
    {
     "data": {
      "image/png": "[encoded data removed]",
      "text/plain": [
       "<Figure size 640x480 with 1 Axes>"
      ]
     },
     "metadata": {},
     "output_type": "display_data"
    }
   ],
   "source": [
    "import torch\n",
    "import cv2\n",
    "import torchvision.transforms as transforms\n",
    "import matplotlib.pyplot as plt\n",
    "\n",
    "# Read the image\n",
    "image = cv2.imread('/Users/aymane/School/Senior Design/pothole-localization/data/segmentation/raw/label/601.png')\n",
    "  \n",
    "# Convert BGR image to RGB image\n",
    "image = cv2.cvtColor(image, cv2.COLOR_RGB2GRAY)\n",
    "  \n",
    "# Define a transform to convert\n",
    "# the image to torch tensor\n",
    "transform = transforms.Compose([\n",
    "    transforms.ToTensor()\n",
    "])\n",
    "  \n",
    "# Convert the image to Torch tensor\n",
    "tensor = transform(image)\n",
    "  \n",
    "# print the converted image tensor\n",
    "print(tensor.shape)\n",
    "\n",
    "plt.imshow(image)\n",
    "plt.show()"
   ]
  }
 ],
 "metadata": {
  "kernelspec": {
   "display_name": "Python 3.10.7 ('venv': venv)",
   "language": "python",
   "name": "python3"
  },
  "language_info": {
   "codemirror_mode": {
    "name": "ipython",
    "version": 3
   },
   "file_extension": ".py",
   "mimetype": "text/x-python",
   "name": "python",
   "nbconvert_exporter": "python",
   "pygments_lexer": "ipython3",
   "version": "3.10.7"
  },
  "orig_nbformat": 4,
  "vscode": {
   "interpreter": {
    "hash": "e6b7e9f84550e7465be7ad1eccfde01ceb8e240b1c3ef6843319a539c8e378c0"
   }
  }
 },
 "nbformat": 4,
 "nbformat_minor": 2
}
